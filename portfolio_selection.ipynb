{
 "cells": [
  {
   "cell_type": "code",
   "execution_count": 1,
   "metadata": {},
   "outputs": [],
   "source": [
    "import csv\n",
    "import copy\n",
    "from tqdm import tqdm\n",
    "import pandas as pd\n",
    "import numpy as np"
   ]
  },
  {
   "cell_type": "code",
   "execution_count": 146,
   "metadata": {},
   "outputs": [],
   "source": [
    "csv_file = \"data/stock_clean.csv\"\n",
    "df = pd.read_csv(csv_file)"
   ]
  },
  {
   "cell_type": "code",
   "execution_count": 147,
   "metadata": {},
   "outputs": [],
   "source": [
    "df = df.rename(columns = {df.columns[0]:\"date\"})"
   ]
  },
  {
   "cell_type": "code",
   "execution_count": 148,
   "metadata": {},
   "outputs": [
    {
     "data": {
      "text/plain": [
       "0      19620831\n",
       "1      19620928\n",
       "2      19621031\n",
       "3      19621130\n",
       "4      19621231\n",
       "         ...   \n",
       "391    19950331\n",
       "392    19950428\n",
       "393    19950531\n",
       "394    19950630\n",
       "395    19950731\n",
       "Name: date, Length: 396, dtype: int64"
      ]
     },
     "execution_count": 148,
     "metadata": {},
     "output_type": "execute_result"
    }
   ],
   "source": [
    "df[\"date\"]"
   ]
  },
  {
   "cell_type": "code",
   "execution_count": 149,
   "metadata": {},
   "outputs": [
    {
     "name": "stdout",
     "output_type": "stream",
     "text": [
      "120\n"
     ]
    }
   ],
   "source": [
    "result = df[\"date\"].isin([\"19720731\"])\n",
    "t = df[\"date\"][result].index.values[0]+1\n",
    "print(t)"
   ]
  },
  {
   "cell_type": "code",
   "execution_count": 173,
   "metadata": {
    "scrolled": true
   },
   "outputs": [
    {
     "name": "stdout",
     "output_type": "stream",
     "text": [
      "C\n"
     ]
    }
   ],
   "source": [
    "tmp_df = df[t-119:t+1].dropna(thresh=df[t-119:t+1].shape[0],how='all',axis=1)\n",
    "#print(tmp_df)\n",
    "N = len(tmp_df.columns[1:])\n",
    "q = 0.01\n",
    "print(tmp_df[tmp_df.columns[351]][29])"
   ]
  },
  {
   "cell_type": "code",
   "execution_count": 164,
   "metadata": {},
   "outputs": [
    {
     "name": "stdout",
     "output_type": "stream",
     "text": [
      "(array([28, 33, 44, 66, 78]), array([350, 437, 437,  94, 499]))\n"
     ]
    }
   ],
   "source": [
    "cov_matrix = tmp_df[tmp_df.columns[1:]].values\n",
    "print(np.where(cov_matrix==\"C\"))"
   ]
  },
  {
   "cell_type": "code",
   "execution_count": 138,
   "metadata": {},
   "outputs": [
    {
     "name": "stdout",
     "output_type": "stream",
     "text": [
      "             AB         FTR          DR         BRY         AIN           G  \\\n",
      "AB   186.391981  -46.748916    3.547736  -48.263696  -22.673003   -3.968849   \n",
      "FTR  -46.748916  289.805443  -38.851440    3.163909  -36.193252   -6.878656   \n",
      "DR     3.547736  -38.851440  480.949793  -18.733520   28.546617   -5.379183   \n",
      "BRY  -48.263696    3.163909  -18.733520  432.759294  -20.102290 -118.408700   \n",
      "AIN  -22.673003  -36.193252   28.546617  -20.102290  128.307103   24.301630   \n",
      "G     -3.968849   -6.878656   -5.379183 -118.408700   24.301630  377.967941   \n",
      "PET  -41.642000  -26.998050   18.506655  -28.390981   -0.292684    6.982861   \n",
      "FOX  -38.159383    4.983516  -42.858913  -15.593645  -23.618009  -28.064448   \n",
      "WHX   -1.980789  -43.907969  -13.455402   -9.242958    5.934511  -10.439643   \n",
      "BLI  -17.588704    2.859181  -72.215497  -15.243481   -0.518217  -46.261262   \n",
      "HI   -55.347546  -35.618904  -86.459636   24.327864  -16.942663  -98.469287   \n",
      "APY   -6.201241   -2.549720    0.062726    6.828299  -11.815718   -2.987546   \n",
      "\n",
      "            PET         FOX         WHX         BLI          HI        APY  \n",
      "AB   -41.642000  -38.159383   -1.980789  -17.588704  -55.347546  -6.201241  \n",
      "FTR  -26.998050    4.983516  -43.907969    2.859181  -35.618904  -2.549720  \n",
      "DR    18.506655  -42.858913  -13.455402  -72.215497  -86.459636   0.062726  \n",
      "BRY  -28.390981  -15.593645   -9.242958  -15.243481   24.327864   6.828299  \n",
      "AIN   -0.292684  -23.618009    5.934511   -0.518217  -16.942663 -11.815718  \n",
      "G      6.982861  -28.064448  -10.439643  -46.261262  -98.469287  -2.987546  \n",
      "PET  219.753605    0.995276   -3.442631  -13.977540    9.078637  -6.611255  \n",
      "FOX    0.995276  163.921535  -13.644851  -45.131289  -12.994358 -12.001995  \n",
      "WHX   -3.442631  -13.644851  124.509522  -31.074068  -27.193904   3.757327  \n",
      "BLI  -13.977540  -45.131289  -31.074068  288.787660   27.662649 -20.306159  \n",
      "HI     9.078637  -12.994358  -27.193904   27.662649  300.594054 -37.500791  \n",
      "APY   -6.611255  -12.001995    3.757327  -20.306159  -37.500791  92.452952  \n"
     ]
    }
   ],
   "source": [
    "cov_matrix_inv = pd.DataFrame(np.linalg.pinv(cov_matrix.values), cov_matrix.columns, cov_matrix.index)\n",
    "print(cov_matrix_inv)"
   ]
  },
  {
   "cell_type": "code",
   "execution_count": 137,
   "metadata": {},
   "outputs": [
    {
     "name": "stdout",
     "output_type": "stream",
     "text": [
      "AB     0.015481\n",
      "FTR    0.011091\n",
      "DR     0.009605\n",
      "BRY    0.013330\n",
      "AIN    0.005754\n",
      "G      0.008893\n",
      "PET    0.011356\n",
      "FOX    0.010433\n",
      "WHX    0.002974\n",
      "BLI    0.011685\n",
      "HI     0.012216\n",
      "APY    0.004591\n",
      "dtype: float64\n"
     ]
    }
   ],
   "source": [
    "mu = tmp_df[tmp_df.columns[1:]].mean()\n",
    "print(mu)"
   ]
  },
  {
   "cell_type": "code",
   "execution_count": 134,
   "metadata": {},
   "outputs": [
    {
     "name": "stdout",
     "output_type": "stream",
     "text": [
      "[[663.3903902]]\n"
     ]
    }
   ],
   "source": [
    "A = np.ones((1,N))@cov_matrix_inv.values@np.ones((N,1))\n",
    "print(A)"
   ]
  },
  {
   "cell_type": "code",
   "execution_count": 135,
   "metadata": {},
   "outputs": [
    {
     "name": "stdout",
     "output_type": "stream",
     "text": [
      "[6.76293001]\n"
     ]
    }
   ],
   "source": [
    "B = np.ones((1,N))@cov_matrix_inv.values@mu.values\n",
    "print(B)"
   ]
  },
  {
   "cell_type": "code",
   "execution_count": 136,
   "metadata": {},
   "outputs": [
    {
     "name": "stdout",
     "output_type": "stream",
     "text": [
      "0.098079099754565\n"
     ]
    }
   ],
   "source": [
    "C = mu.values.T@cov_matrix_inv.values@mu.values\n",
    "print(C)"
   ]
  },
  {
   "cell_type": "code",
   "execution_count": 133,
   "metadata": {},
   "outputs": [
    {
     "name": "stdout",
     "output_type": "stream",
     "text": [
      "3.3321121222013454\n"
     ]
    }
   ],
   "source": [
    "w = (C-q*B)/(A*C-B*B)*cov_matrix_inv.values@np.ones((N,1))+(q*A-C)/(A*C-B*B)*cov_matrix_inv.values@mu.values[:,np.newaxis]\n",
    "print(np.sum(w))"
   ]
  },
  {
   "cell_type": "code",
   "execution_count": null,
   "metadata": {},
   "outputs": [],
   "source": [
    "for i in range(t,396):\n",
    "    tmp_df = df[i-119:i+1].dropna(thresh=df[i-119:i+1].shape[0],how='all',axis=1)\n",
    "    print(len(tmp_df.columns))"
   ]
  }
 ],
 "metadata": {
  "kernelspec": {
   "display_name": "Python 3",
   "language": "python",
   "name": "python3"
  },
  "language_info": {
   "codemirror_mode": {
    "name": "ipython",
    "version": 3
   },
   "file_extension": ".py",
   "mimetype": "text/x-python",
   "name": "python",
   "nbconvert_exporter": "python",
   "pygments_lexer": "ipython3",
   "version": "3.7.4"
  }
 },
 "nbformat": 4,
 "nbformat_minor": 2
}
