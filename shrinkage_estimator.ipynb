{
 "cells": [
  {
   "cell_type": "code",
   "execution_count": 1,
   "metadata": {},
   "outputs": [],
   "source": [
    "import csv\n",
    "import copy\n",
    "from tqdm import tqdm\n",
    "import pandas as pd\n",
    "import numpy as np\n",
    "from scipy import stats"
   ]
  },
  {
   "cell_type": "code",
   "execution_count": 2,
   "metadata": {},
   "outputs": [],
   "source": [
    "market_csv_file = \"data/S&P500.csv\"\n",
    "stock_csv_file = \"data/stock_clean.csv\"\n",
    "df_market = pd.read_csv(market_csv_file)\n",
    "df_stock = pd.read_csv(stock_csv_file)"
   ]
  },
  {
   "cell_type": "code",
   "execution_count": 7,
   "metadata": {},
   "outputs": [
    {
     "name": "stdout",
     "output_type": "stream",
     "text": [
      "119\n"
     ]
    }
   ],
   "source": [
    "df_stock = df_stock.rename(columns = {df_stock.columns[0]:\"date\"})\n",
    "result = df_stock[\"date\"].isin([\"19720731\"])\n",
    "t = df_stock[\"date\"][result].index.values[0]\n",
    "print(t)"
   ]
  },
  {
   "cell_type": "code",
   "execution_count": 9,
   "metadata": {},
   "outputs": [],
   "source": [
    "#Drop columns that have less than pre 120 + post 12 = 132 valid return\n",
    "tmp_df_stock_all = df_stock[t-119:t+13].dropna(thresh=df_stock[t-119:t+13].shape[0],how='all',axis=1)\n",
    "#print(tmp_df_stock_all)\n",
    "#Get the prev\n",
    "tmp_df_stock = tmp_df_stock_all[0:120]\n",
    "tmp_df_market = df_market[t-119:t+1]\n",
    "N = len(tmp_df_stock.columns[1:])"
   ]
  },
  {
   "cell_type": "code",
   "execution_count": 12,
   "metadata": {},
   "outputs": [],
   "source": [
    "#sample covariance matrix estimator\n",
    "sample_cov = tmp_df_stock[tmp_df_stock.columns[1:]].astype(np.float64).cov()"
   ]
  },
  {
   "cell_type": "code",
   "execution_count": 20,
   "metadata": {},
   "outputs": [],
   "source": [
    "#market model estimator\n",
    "y = tmp_df_stock[tmp_df_stock.columns[1:]].astype(np.float64).values\n",
    "y_bar = y.mean()\n",
    "x = tmp_df_market[tmp_df_market.columns[1:]].astype(np.float64).values\n",
    "x_bar = x.mean()\n",
    "beta_1 = np.sum((y-y_bar)*(x),axis=0)/np.sum((x-x_bar)*x,axis=0)\n",
    "beta_0 = y_bar - beta_1*x_bar\n",
    "residual = y - (beta_1*x+beta_0)\n",
    "delta = np.sum(residual**2,axis=0)/(N-2)\n",
    "D = np.diag(delta)\n",
    "s_2 = x.var()\n",
    "F = s_2*beta_1[:,np.newaxis]@beta_1[:,np.newaxis].T + D\n",
    "#print(F)"
   ]
  },
  {
   "cell_type": "code",
   "execution_count": 62,
   "metadata": {},
   "outputs": [
    {
     "name": "stderr",
     "output_type": "stream",
     "text": [
      "100%|██████████| 23/23 [00:06<00:00,  3.57it/s]\n"
     ]
    }
   ],
   "source": [
    "#backtest\n",
    "monthly_returns = []\n",
    "#range(t,384,12)\n",
    "for i in tqdm(range(t,t+1,12)):\n",
    "\n",
    "    #Drop columns that have less than pre 120 + post 12 = 132 valid return\n",
    "    tmp_df_stock_all = df_stock[i-119:i+13].dropna(thresh=df_stock[i-119:i+13].shape[0],how='all',axis=1)\n",
    "\n",
    "    #In sample\n",
    "    tmp_df_stock = tmp_df_stock_all[0:120]\n",
    "    N = len(tmp_df_stock.columns[1:])\n",
    "    tmp_df_market = df_market[t-119:t+1]\n",
    "    \n",
    "    #sample covariance matrix estimator\n",
    "    sample_cov = tmp_df_stock[tmp_df_stock.columns[1:]].astype(np.float64).cov()\n",
    "    \n",
    "    #market model estimator\n",
    "    y = tmp_df_stock[tmp_df_stock.columns[1:]].astype(np.float64).values\n",
    "    y_bar = y.mean(axis=0)\n",
    "    x = tmp_df_market[tmp_df_market.columns[1:]].astype(np.float64).values\n",
    "    x_bar = x.mean()\n",
    "    beta_1 = np.sum((y-y_bar)*(x-x_bar),axis=0)/np.sum((x-x_bar)*(x-x_bar),axis=0)\n",
    "    beta_0 = y_bar - beta_1*x_bar\n",
    "    residual = y - (beta_1*x+beta_0)\n",
    "    delta = np.sum(residual**2,axis=0)/(N-2)\n",
    "    D = np.diag(delta)\n",
    "    s_2 = x.var()\n",
    "    F = s_2*beta_1[:,np.newaxis]@beta_1[:,np.newaxis].T + D\n",
    "    \n",
    "    cov_matrix = F\n",
    "    #cov_matrix_inv = pd.DataFrame(np.linalg.pinv(cov_matrix.values), cov_matrix.columns, cov_matrix.index)\n",
    "    cov_matrix_inv = np.linalg.pinv(cov_matrix)\n",
    "    #print(cov_matrix_inv)\n",
    "    \n",
    "    w = cov_matrix_inv@np.ones((N,1))/(np.ones((1,N))@cov_matrix_inv@np.ones((N,1)))\n",
    "    mu = tmp_df_stock[tmp_df_stock.columns[1:]].mean()\n",
    "    #print(mu)\n",
    "    \n",
    "    for j in range(12):\n",
    "        tmp_df_post = tmp_df_stock_all[120+j:121+j]\n",
    "        tmp_df_post = tmp_df_post[tmp_df_post.columns[1:]]\n",
    "        #print(tmp_df_post)\n",
    "        monthly_return = (tmp_df_post.astype(np.float64)+1).prod(axis=0)-1\n",
    "        monthly_returns.append(monthly_return@w)\n",
    "    "
   ]
  },
  {
   "cell_type": "code",
   "execution_count": 63,
   "metadata": {},
   "outputs": [
    {
     "data": {
      "text/plain": [
       "0.1432967768232372"
      ]
     },
     "execution_count": 63,
     "metadata": {},
     "output_type": "execute_result"
    }
   ],
   "source": [
    "monthly_returns = np.array(monthly_returns)\n",
    "monthly_returns.std()*np.sqrt(12)"
   ]
  },
  {
   "cell_type": "code",
   "execution_count": 80,
   "metadata": {},
   "outputs": [
    {
     "ename": "SyntaxError",
     "evalue": "unexpected EOF while parsing (<ipython-input-80-9aa32952226a>, line 23)",
     "output_type": "error",
     "traceback": [
      "\u001b[0;36m  File \u001b[0;32m\"<ipython-input-80-9aa32952226a>\"\u001b[0;36m, line \u001b[0;32m23\u001b[0m\n\u001b[0;31m    \u001b[0m\n\u001b[0m    ^\u001b[0m\n\u001b[0;31mSyntaxError\u001b[0m\u001b[0;31m:\u001b[0m unexpected EOF while parsing\n"
     ]
    }
   ],
   "source": [
    "pi = 0\n",
    "rou = 0\n",
    "gamma = 0\n",
    "T = 120\n",
    "\n",
    "for i in range(N):\n",
    "    for j in range(N):\n",
    "        gamma += (F[i][j]-S[i][j])**2\n",
    "        \n",
    "        tmp = 0\n",
    "        for k in range(T):\n",
    "            tmp += ((y[k][i]-y_bar[i])*(y[k][j]-y_bar[j])-S[i][j])**2\n",
    "        pi += tmp/T\n",
    "        \n",
    "        if i == j:\n",
    "            rou += tmp/T\n",
    "        else:\n",
    "            stock_i = y[:,[i]]\n",
    "            stock_j = y[:,[j]]\n",
    "            s_i0 = cov()\n",
    "            \n",
    "            for k in range(T):\n",
    "                \n",
    "        \n",
    "        \n"
   ]
  },
  {
   "cell_type": "code",
   "execution_count": 91,
   "metadata": {},
   "outputs": [
    {
     "ename": "ValueError",
     "evalue": "object too deep for desired array",
     "output_type": "error",
     "traceback": [
      "\u001b[0;31m---------------------------------------------------------------------------\u001b[0m",
      "\u001b[0;31mValueError\u001b[0m                                Traceback (most recent call last)",
      "\u001b[0;32m<ipython-input-91-a490f298ad2f>\u001b[0m in \u001b[0;36m<module>\u001b[0;34m\u001b[0m\n\u001b[1;32m      1\u001b[0m \u001b[0mstock_i\u001b[0m \u001b[0;34m=\u001b[0m \u001b[0my\u001b[0m\u001b[0;34m[\u001b[0m\u001b[0;34m:\u001b[0m\u001b[0;34m,\u001b[0m\u001b[0;34m[\u001b[0m\u001b[0mi\u001b[0m\u001b[0;34m]\u001b[0m\u001b[0;34m]\u001b[0m\u001b[0;34m\u001b[0m\u001b[0;34m\u001b[0m\u001b[0m\n\u001b[1;32m      2\u001b[0m \u001b[0mstock_j\u001b[0m \u001b[0;34m=\u001b[0m \u001b[0my\u001b[0m\u001b[0;34m[\u001b[0m\u001b[0;34m:\u001b[0m\u001b[0;34m,\u001b[0m\u001b[0;34m[\u001b[0m\u001b[0mj\u001b[0m\u001b[0;34m]\u001b[0m\u001b[0;34m]\u001b[0m\u001b[0;34m\u001b[0m\u001b[0;34m\u001b[0m\u001b[0m\n\u001b[0;32m----> 3\u001b[0;31m \u001b[0ms_i0\u001b[0m \u001b[0;34m=\u001b[0m \u001b[0mnp\u001b[0m\u001b[0;34m.\u001b[0m\u001b[0mcorrelate\u001b[0m\u001b[0;34m(\u001b[0m\u001b[0mstock_i\u001b[0m\u001b[0;34m,\u001b[0m\u001b[0mx\u001b[0m\u001b[0;34m)\u001b[0m\u001b[0;34m\u001b[0m\u001b[0;34m\u001b[0m\u001b[0m\n\u001b[0m",
      "\u001b[0;32m<__array_function__ internals>\u001b[0m in \u001b[0;36mcorrelate\u001b[0;34m(*args, **kwargs)\u001b[0m\n",
      "\u001b[0;32m~/miniconda3/envs/py37/lib/python3.7/site-packages/numpy/core/numeric.py\u001b[0m in \u001b[0;36mcorrelate\u001b[0;34m(a, v, mode)\u001b[0m\n\u001b[1;32m    711\u001b[0m     \"\"\"\n\u001b[1;32m    712\u001b[0m     \u001b[0mmode\u001b[0m \u001b[0;34m=\u001b[0m \u001b[0m_mode_from_name\u001b[0m\u001b[0;34m(\u001b[0m\u001b[0mmode\u001b[0m\u001b[0;34m)\u001b[0m\u001b[0;34m\u001b[0m\u001b[0;34m\u001b[0m\u001b[0m\n\u001b[0;32m--> 713\u001b[0;31m     \u001b[0;32mreturn\u001b[0m \u001b[0mmultiarray\u001b[0m\u001b[0;34m.\u001b[0m\u001b[0mcorrelate2\u001b[0m\u001b[0;34m(\u001b[0m\u001b[0ma\u001b[0m\u001b[0;34m,\u001b[0m \u001b[0mv\u001b[0m\u001b[0;34m,\u001b[0m \u001b[0mmode\u001b[0m\u001b[0;34m)\u001b[0m\u001b[0;34m\u001b[0m\u001b[0;34m\u001b[0m\u001b[0m\n\u001b[0m\u001b[1;32m    714\u001b[0m \u001b[0;34m\u001b[0m\u001b[0m\n\u001b[1;32m    715\u001b[0m \u001b[0;34m\u001b[0m\u001b[0m\n",
      "\u001b[0;31mValueError\u001b[0m: object too deep for desired array"
     ]
    }
   ],
   "source": [
    "stock_i = y[:,[i]]\n",
    "stock_j = y[:,[j]]"
   ]
  },
  {
   "cell_type": "code",
   "execution_count": null,
   "metadata": {},
   "outputs": [],
   "source": []
  }
 ],
 "metadata": {
  "kernelspec": {
   "display_name": "Python 3",
   "language": "python",
   "name": "python3"
  },
  "language_info": {
   "codemirror_mode": {
    "name": "ipython",
    "version": 3
   },
   "file_extension": ".py",
   "mimetype": "text/x-python",
   "name": "python",
   "nbconvert_exporter": "python",
   "pygments_lexer": "ipython3",
   "version": "3.7.6"
  }
 },
 "nbformat": 4,
 "nbformat_minor": 4
}
