{
 "cells": [
  {
   "cell_type": "code",
   "execution_count": 1,
   "metadata": {},
   "outputs": [],
   "source": [
    "import csv\n",
    "import copy\n",
    "from tqdm import tqdm\n",
    "import pandas as pd\n",
    "import numpy as np\n",
    "from scipy import stats"
   ]
  },
  {
   "cell_type": "code",
   "execution_count": 2,
   "metadata": {},
   "outputs": [],
   "source": [
    "market_csv_file = \"data/S&P500.csv\"\n",
    "stock_csv_file = \"data/stock_clean.csv\"\n",
    "df_market = pd.read_csv(market_csv_file)\n",
    "df_stock = pd.read_csv(stock_csv_file)"
   ]
  },
  {
   "cell_type": "code",
   "execution_count": 3,
   "metadata": {},
   "outputs": [
    {
     "name": "stdout",
     "output_type": "stream",
     "text": [
      "119\n"
     ]
    }
   ],
   "source": [
    "df_stock = df_stock.rename(columns = {df_stock.columns[0]:\"date\"})\n",
    "result = df_stock[\"date\"].isin([\"19720731\"])\n",
    "t = df_stock[\"date\"][result].index.values[0]\n",
    "print(t)"
   ]
  },
  {
   "cell_type": "code",
   "execution_count": 4,
   "metadata": {},
   "outputs": [],
   "source": [
    "#Drop columns that have less than pre 120 + post 12 = 132 valid return\n",
    "tmp_df_stock_all = df_stock[t-119:t+13].dropna(thresh=df_stock[t-119:t+13].shape[0],how='all',axis=1)\n",
    "#print(tmp_df_stock_all)\n",
    "#Get the prev\n",
    "tmp_df_stock = tmp_df_stock_all[0:120]\n",
    "tmp_df_market = df_market[t-119:t+1]\n",
    "N = len(tmp_df_stock.columns[1:])"
   ]
  },
  {
   "cell_type": "code",
   "execution_count": 5,
   "metadata": {},
   "outputs": [],
   "source": [
    "#sample covariance matrix estimator\n",
    "sample_cov = tmp_df_stock[tmp_df_stock.columns[1:]].astype(np.float64).cov()"
   ]
  },
  {
   "cell_type": "code",
   "execution_count": null,
   "metadata": {},
   "outputs": [],
   "source": [
    "#market model estimator\n",
    "y = tmp_df_stock[tmp_df_stock.columns[1:]].astype(np.float64).values\n",
    "y_bar = y.mean(axis=0)\n",
    "x = tmp_df_market[tmp_df_market.columns[1:]].astype(np.float64).values\n",
    "x_bar = x.mean()\n",
    "beta_1 = np.sum((y-y_bar)*(x),axis=0)/np.sum((x-x_bar)*x,axis=0)\n",
    "beta_0 = y_bar - beta_1*x_bar\n",
    "residual = y - (beta_1*x+beta_0)\n",
    "delta = np.sum(residual**2,axis=0)/(N-2)\n",
    "D = np.diag(delta)\n",
    "s_2 = x.var()\n",
    "print(s_2)\n",
    "F = s_2*beta_1[:,np.newaxis]@beta_1[:,np.newaxis].T + D\n",
    "S = tmp_df_stock[tmp_df_stock.columns[1:]].astype(np.float64).cov()\n",
    "#print(F)"
   ]
  },
  {
   "cell_type": "code",
   "execution_count": null,
   "metadata": {},
   "outputs": [],
   "source": [
    "pi = 0\n",
    "rou = 0\n",
    "gamma = 0\n",
    "T = 120\n",
    "\n",
    "yx = np.concatenate((y,x),axis=1)\n",
    "yx_cov = np.cov(yx,rowvar=False)\n",
    "s_x0 = yx_cov[-1,:] \n",
    "\n",
    "for i in range(N):\n",
    "    for j in range(N):\n",
    "        gamma += (F[i,j]-S.values[i,j])**2\n",
    "        \n",
    "        tmp = 0\n",
    "        for k in range(T):\n",
    "            tmp += ((y[k,i]-y_bar[i])*(y[k,j]-y_bar[j])-S.values[i,j])**2\n",
    "        pi += tmp/T\n",
    "        \n",
    "        if i == j:\n",
    "            rou += tmp/T\n",
    "        else:\n",
    "            tmp = 0\n",
    "            for k in range(T):\n",
    "                tmp_1 = 0\n",
    "                tmp_1 += s_x0[j]*s_x0[-1]*(y[k,i]-y_bar[i])-s_x0[i]*s_x0[-1]*(y[k,j]-y_bar[j])-s_x0[i]*s_x0[j]*(x[k]-x_bar)\n",
    "                tmp_1 *= (y[k,i]-y_bar[i])*(y[k,j]-y_bar[j])*(x[k]-x_bar)\n",
    "                tmp_1 -= F[i,j]*S.values[i,j]\n",
    "                tmp += tmp_1\n",
    "            rou += tmp/T   \n",
    "            \n",
    "print(pi)\n",
    "print(rou)\n",
    "print(gamma)\n",
    "#             for k in range(T):\n",
    "\n",
    "# gamma = ((F-S)**2).sum().sum()\n",
    "# s_x0 = np.expand_dims(yx_cov[-1,:-1],axis=1)\n",
    "# PI = ((((y-y_bar).T@(y-y_bar)-S)**2)/T).values\n",
    "# pi = PI.sum().sum()\n",
    "# print(pi)\n",
    "# print(gamma)\n",
    "# r = np.zeros((N,N))\n",
    "# s_00 = yx_cov[-1,-1]\n",
    "# for i in range(T):\n",
    "#     y_e = np.expand_dims(y[i,:]-y_bar,axis=1)\n",
    "#     r+=(x[0]-x_bar)*(s_00*s_x0@y_e.T-(s_00*y_e@s_x0.T-s_x0@s_x0.T)*(y_e@y_e.T))/(s_00**2) - F*S\n",
    "\n",
    "# np.fill_diagonal(r.values,np.diag(PI))\n",
    "# rou =r.values.sum().sum()\n",
    "# print(rou)\n",
    "# k = (pi-rou)/gamma\n",
    "# #print(k)\n",
    "# E = k/T * F +(T-k)/T* S\n",
    "# print(E)\n",
    "# print(yx_cov[-1,-1])\n",
    "# print(yx.shape)\n",
    "# print(yx_cov.shape)"
   ]
  },
  {
   "cell_type": "code",
   "execution_count": 62,
   "metadata": {},
   "outputs": [
    {
     "name": "stderr",
     "output_type": "stream",
     "text": [
      "100%|██████████| 23/23 [00:06<00:00,  3.57it/s]\n"
     ]
    }
   ],
   "source": [
    "#backtest\n",
    "monthly_returns = []\n",
    "#range(t,384,12)\n",
    "for i in tqdm(range(t,t+1,12)):\n",
    "\n",
    "    #Drop columns that have less than pre 120 + post 12 = 132 valid return\n",
    "    tmp_df_stock_all = df_stock[i-119:i+13].dropna(thresh=df_stock[i-119:i+13].shape[0],how='all',axis=1)\n",
    "\n",
    "    #In sample\n",
    "    tmp_df_stock = tmp_df_stock_all[0:120]\n",
    "    N = len(tmp_df_stock.columns[1:])\n",
    "    tmp_df_market = df_market[t-119:t+1]\n",
    "    \n",
    "    #sample covariance matrix estimator\n",
    "    sample_cov = tmp_df_stock[tmp_df_stock.columns[1:]].astype(np.float64).cov()\n",
    "    \n",
    "    #market model estimator\n",
    "    y = tmp_df_stock[tmp_df_stock.columns[1:]].astype(np.float64).values\n",
    "    y_bar = y.mean(axis=0)\n",
    "    x = tmp_df_market[tmp_df_market.columns[1:]].astype(np.float64).values\n",
    "    x_bar = x.mean()\n",
    "    beta_1 = np.sum((y-y_bar)*(x-x_bar),axis=0)/np.sum((x-x_bar)*(x-x_bar),axis=0)\n",
    "    beta_0 = y_bar - beta_1*x_bar\n",
    "    residual = y - (beta_1*x+beta_0)\n",
    "    delta = np.sum(residual**2,axis=0)/(N-2)\n",
    "    D = np.diag(delta)\n",
    "    s_2 = x.var()\n",
    "    F = s_2*beta_1[:,np.newaxis]@beta_1[:,np.newaxis].T + D\n",
    "    \n",
    "    cov_matrix = F\n",
    "    #cov_matrix_inv = pd.DataFrame(np.linalg.pinv(cov_matrix.values), cov_matrix.columns, cov_matrix.index)\n",
    "    cov_matrix_inv = np.linalg.pinv(cov_matrix)\n",
    "    #print(cov_matrix_inv)\n",
    "    \n",
    "    w = cov_matrix_inv@np.ones((N,1))/(np.ones((1,N))@cov_matrix_inv@np.ones((N,1)))\n",
    "    mu = tmp_df_stock[tmp_df_stock.columns[1:]].mean()\n",
    "    #print(mu)\n",
    "    \n",
    "    for j in range(12):\n",
    "        tmp_df_post = tmp_df_stock_all[120+j:121+j]\n",
    "        tmp_df_post = tmp_df_post[tmp_df_post.columns[1:]]\n",
    "        #print(tmp_df_post)\n",
    "        monthly_return = (tmp_df_post.astype(np.float64)+1).prod(axis=0)-1\n",
    "        monthly_returns.append(monthly_return@w)\n",
    "    "
   ]
  },
  {
   "cell_type": "code",
   "execution_count": 63,
   "metadata": {},
   "outputs": [
    {
     "data": {
      "text/plain": [
       "0.1432967768232372"
      ]
     },
     "execution_count": 63,
     "metadata": {},
     "output_type": "execute_result"
    }
   ],
   "source": [
    "monthly_returns = np.array(monthly_returns)\n",
    "monthly_returns.std()*np.sqrt(12)"
   ]
  },
  {
   "cell_type": "code",
   "execution_count": null,
   "metadata": {},
   "outputs": [],
   "source": [
    "a = s"
   ]
  },
  {
   "cell_type": "code",
   "execution_count": 27,
   "metadata": {},
   "outputs": [
    {
     "name": "stdout",
     "output_type": "stream",
     "text": [
      "(120, 811)\n",
      "(811, 811)\n"
     ]
    }
   ],
   "source": [
    "\n",
    "                \n",
    "        \n",
    "        \n"
   ]
  },
  {
   "cell_type": "code",
   "execution_count": 28,
   "metadata": {},
   "outputs": [
    {
     "data": {
      "text/plain": [
       "array([[0.01595323, 0.00163098],\n",
       "       [0.00163098, 0.00228553]])"
      ]
     },
     "execution_count": 28,
     "metadata": {},
     "output_type": "execute_result"
    }
   ],
   "source": []
  },
  {
   "cell_type": "code",
   "execution_count": null,
   "metadata": {},
   "outputs": [],
   "source": []
  }
 ],
 "metadata": {
  "kernelspec": {
   "display_name": "Python 3",
   "language": "python",
   "name": "python3"
  },
  "language_info": {
   "codemirror_mode": {
    "name": "ipython",
    "version": 3
   },
   "file_extension": ".py",
   "mimetype": "text/x-python",
   "name": "python",
   "nbconvert_exporter": "python",
   "pygments_lexer": "ipython3",
   "version": "3.7.6"
  }
 },
 "nbformat": 4,
 "nbformat_minor": 4
}
