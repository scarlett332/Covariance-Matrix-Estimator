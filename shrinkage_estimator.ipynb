{
 "cells": [
  {
   "cell_type": "code",
   "execution_count": 2,
   "metadata": {},
   "outputs": [],
   "source": [
    "import csv\n",
    "import copy\n",
    "from tqdm import tqdm\n",
    "import pandas as pd\n",
    "import numpy as np\n",
    "from scipy import stats"
   ]
  },
  {
   "cell_type": "code",
   "execution_count": 3,
   "metadata": {},
   "outputs": [],
   "source": [
    "market_csv_file = \"data/S&P500.csv\"\n",
    "stock_csv_file = \"data/stock_clean.csv\"\n",
    "df_market = pd.read_csv(market_csv_file)\n",
    "df_stock = pd.read_csv(stock_csv_file)"
   ]
  },
  {
   "cell_type": "code",
   "execution_count": 4,
   "metadata": {},
   "outputs": [
    {
     "name": "stdout",
     "output_type": "stream",
     "text": [
      "119\n"
     ]
    }
   ],
   "source": [
    "df_stock = df_stock.rename(columns = {df_stock.columns[0]:\"date\"})\n",
    "result = df_stock[\"date\"].isin([\"19720731\"])\n",
    "t = df_stock[\"date\"][result].index.values[0]\n",
    "print(t)"
   ]
  },
  {
   "cell_type": "code",
   "execution_count": 5,
   "metadata": {},
   "outputs": [],
   "source": [
    "#Drop columns that have less than pre 120 + post 12 = 132 valid return\n",
    "tmp_df_stock_all = df_stock[t-119:t+13].dropna(thresh=df_stock[t-119:t+13].shape[0],how='all',axis=1)\n",
    "#print(tmp_df_stock_all)\n",
    "#Get the prev\n",
    "tmp_df_stock = tmp_df_stock_all[0:120]\n",
    "tmp_df_market = df_market[t-119:t+1]\n",
    "N = len(tmp_df_stock.columns[1:])"
   ]
  },
  {
   "cell_type": "code",
   "execution_count": 6,
   "metadata": {},
   "outputs": [],
   "source": [
    "#sample covariance matrix estimator\n",
    "sample_cov = tmp_df_stock[tmp_df_stock.columns[1:]].astype(np.float64).cov()"
   ]
  },
  {
   "cell_type": "code",
   "execution_count": 46,
   "metadata": {},
   "outputs": [
    {
     "name": "stdout",
     "output_type": "stream",
     "text": [
      "0.001261002278338264\n"
     ]
    }
   ],
   "source": [
    "#market model estimator\n",
    "y = tmp_df_stock[tmp_df_stock.columns[1:]].astype(np.float64).values\n",
    "y_bar = y.mean(axis=0)\n",
    "x = tmp_df_market[tmp_df_market.columns[1:]].astype(np.float64).values\n",
    "x_bar = x.mean()\n",
    "beta_1 = np.sum((y-y_bar)*(x),axis=0)/np.sum((x-x_bar)*x,axis=0)\n",
    "beta_0 = y_bar - beta_1*x_bar\n",
    "residual = y - (beta_1*x+beta_0)\n",
    "delta = np.sum(residual**2,axis=0)/(N-2)\n",
    "D = np.diag(delta)\n",
    "s_2 = x.var()\n",
    "print(s_2)\n",
    "F = s_2*beta_1[:,np.newaxis]@beta_1[:,np.newaxis].T + D\n",
    "S = tmp_df_stock[tmp_df_stock.columns[1:]].astype(np.float64).cov()\n",
    "#print(F)"
   ]
  },
  {
   "cell_type": "code",
   "execution_count": 66,
   "metadata": {},
   "outputs": [
    {
     "name": "stdout",
     "output_type": "stream",
     "text": [
      "620.5031425396816\n",
      "0.8436649542474596\n",
      "<class 'pandas.core.frame.DataFrame'>\n",
      "2834.3425247079363\n",
      "          ACF        AJ       ADX        AB        AN       AYP       ACD  \\\n",
      "ACF  0.079479  0.015678  0.003908  0.011528  0.005842  0.000611  0.000596   \n",
      "AJ   0.015678  0.285846  0.011009  0.069170  0.016854 -0.012981  0.017369   \n",
      "ADX  0.003908  0.011009  0.026739  0.008408  0.003170  0.004162  0.002373   \n",
      "AB   0.011528  0.069170  0.008408  0.127690  0.019070 -0.019134  0.013528   \n",
      "AN   0.005842  0.016854  0.003170  0.019070  0.078957 -0.001595  0.032452   \n",
      "..        ...       ...       ...       ...       ...       ...       ...   \n",
      "CLI  0.005496  0.033335 -0.002754  0.028230  0.009050 -0.002338  0.018653   \n",
      "WCP  0.015480  0.021652  0.000316  0.015175  0.001492 -0.001324  0.000068   \n",
      "MPO -0.021920  0.132078  0.017294  0.078632  0.004708 -0.021191  0.024239   \n",
      "SG   0.013840  0.096114  0.013950  0.074362  0.020649  0.002139 -0.007568   \n",
      "BFD -0.003123 -0.019308 -0.000528  0.006514 -0.001369  0.007116 -0.012293   \n",
      "\n",
      "           AH       AMX        AC  ...       MVS       LBY       CRP  \\\n",
      "ACF -0.002140  0.012312  0.005889  ...  0.011432  0.033034  0.000185   \n",
      "AJ   0.036026  0.011917  0.005146  ...  0.075635  0.058053  0.014529   \n",
      "ADX -0.000363  0.005726  0.006446  ...  0.010556  0.003307  0.009070   \n",
      "AB   0.021192  0.014915  0.000898  ...  0.058137  0.038065 -0.013984   \n",
      "AN   0.023302  0.007852  0.005613  ... -0.006273  0.013221  0.014290   \n",
      "..        ...       ...       ...  ...       ...       ...       ...   \n",
      "CLI  0.016613  0.016086 -0.000008  ...  0.041322  0.024445  0.004275   \n",
      "WCP  0.023682  0.008500  0.002966  ... -0.001373  0.044289 -0.007833   \n",
      "MPO  0.032215  0.034392  0.006654  ...  0.060311  0.018228  0.007332   \n",
      "SG   0.065750  0.041371  0.000434  ...  0.104205  0.153999  0.015833   \n",
      "BFD  0.004113 -0.002831  0.007619  ... -0.000191 -0.018749 -0.018480   \n",
      "\n",
      "          AAP       HVY       CLI       WCP       MPO        SG       BFD  \n",
      "ACF  0.010193 -0.002950  0.005496  0.015480 -0.021920  0.013840 -0.003123  \n",
      "AJ   0.133788  0.046477  0.033335  0.021652  0.132078  0.096114 -0.019308  \n",
      "ADX -0.008598  0.002776 -0.002754  0.000316  0.017294  0.013950 -0.000528  \n",
      "AB   0.122629  0.058690  0.028230  0.015175  0.078632  0.074362  0.006514  \n",
      "AN  -0.011693  0.005383  0.009050  0.001492  0.004708  0.020649 -0.001369  \n",
      "..        ...       ...       ...       ...       ...       ...       ...  \n",
      "CLI  0.097799  0.055057  0.119358  0.007180  0.038163  0.029712 -0.015523  \n",
      "WCP  0.070003  0.027827  0.007180  0.099814  0.010167  0.038284  0.006806  \n",
      "MPO  0.135239  0.100619  0.038163  0.010167  0.472730  0.117923 -0.007892  \n",
      "SG   0.211853  0.077866  0.029712  0.038284  0.117923  0.439457  0.000437  \n",
      "BFD  0.000731 -0.022885 -0.015523  0.006806 -0.007892  0.000437  0.083083  \n",
      "\n",
      "[810 rows x 810 columns]\n",
      "0.0012715989361394258\n",
      "(120, 811)\n",
      "(811, 811)\n"
     ]
    }
   ],
   "source": [
    "pi = 0\n",
    "rou = 0\n",
    "gamma = 0\n",
    "T = 120\n",
    "\n",
    "# for i in range(N):\n",
    "#     for j in range(N):\n",
    "#         gamma += (F[i][j]-S[i][j])**2\n",
    "        \n",
    "#         tmp = 0\n",
    "#         for k in range(T):\n",
    "#             tmp += ((y[k][i]-y_bar[i])*(y[k][j]-y_bar[j])-S[i][j])**2\n",
    "#         pi += tmp/T\n",
    "        \n",
    "#         if i == j:\n",
    "#             rou += tmp/T\n",
    "#         else:\n",
    "#             stock_i = y[:,[i]]\n",
    "#             stock_j = y[:,[j]]\n",
    "#             s_i0 = cov()\n",
    "            \n",
    "#             for k in range(T):\n",
    "yx = np.concatenate((y,x),axis=1)\n",
    "yx_cov = np.cov(yx,rowvar=False)\n",
    "gamma = ((F-S)**2).sum().sum()\n",
    "s_x0 = np.expand_dims(yx_cov[-1,:-1],axis=1)\n",
    "PI = ((((y-y_bar).T@(y-y_bar)-S)**2)/T).values\n",
    "pi = PI.sum().sum()\n",
    "print(pi)\n",
    "print(gamma)\n",
    "r = np.zeros((N,N))\n",
    "s_00 = yx_cov[-1,-1]\n",
    "for i in range(T):\n",
    "    y_e = np.expand_dims(y[i,:]-y_bar,axis=1)\n",
    "    r+=(x[0]-x_bar)*(s_00*s_x0@y_e.T-(s_00*y_e@s_x0.T-s_x0@s_x0.T)*(y_e@y_e.T))/(s_00**2) - F*S\n",
    "print(type(r))\n",
    "np.fill_diagonal(r.values,np.diag(PI))\n",
    "rou =r.values.sum().sum()\n",
    "print(rou)\n",
    "k = (pi-rou)/gamma\n",
    "#print(k)\n",
    "E = k/T * F +(T-k)/T* S\n",
    "print(E)\n",
    "print(yx_cov[-1,-1])\n",
    "print(yx.shape)\n",
    "print(yx_cov.shape)"
   ]
  },
  {
   "cell_type": "code",
   "execution_count": 62,
   "metadata": {},
   "outputs": [
    {
     "name": "stderr",
     "output_type": "stream",
     "text": [
      "100%|██████████| 23/23 [00:06<00:00,  3.57it/s]\n"
     ]
    }
   ],
   "source": [
    "#backtest\n",
    "monthly_returns = []\n",
    "#range(t,384,12)\n",
    "for i in tqdm(range(t,t+1,12)):\n",
    "\n",
    "    #Drop columns that have less than pre 120 + post 12 = 132 valid return\n",
    "    tmp_df_stock_all = df_stock[i-119:i+13].dropna(thresh=df_stock[i-119:i+13].shape[0],how='all',axis=1)\n",
    "\n",
    "    #In sample\n",
    "    tmp_df_stock = tmp_df_stock_all[0:120]\n",
    "    N = len(tmp_df_stock.columns[1:])\n",
    "    tmp_df_market = df_market[t-119:t+1]\n",
    "    \n",
    "    #sample covariance matrix estimator\n",
    "    sample_cov = tmp_df_stock[tmp_df_stock.columns[1:]].astype(np.float64).cov()\n",
    "    \n",
    "    #market model estimator\n",
    "    y = tmp_df_stock[tmp_df_stock.columns[1:]].astype(np.float64).values\n",
    "    y_bar = y.mean(axis=0)\n",
    "    x = tmp_df_market[tmp_df_market.columns[1:]].astype(np.float64).values\n",
    "    x_bar = x.mean()\n",
    "    beta_1 = np.sum((y-y_bar)*(x-x_bar),axis=0)/np.sum((x-x_bar)*(x-x_bar),axis=0)\n",
    "    beta_0 = y_bar - beta_1*x_bar\n",
    "    residual = y - (beta_1*x+beta_0)\n",
    "    delta = np.sum(residual**2,axis=0)/(N-2)\n",
    "    D = np.diag(delta)\n",
    "    s_2 = x.var()\n",
    "    F = s_2*beta_1[:,np.newaxis]@beta_1[:,np.newaxis].T + D\n",
    "    \n",
    "    cov_matrix = F\n",
    "    #cov_matrix_inv = pd.DataFrame(np.linalg.pinv(cov_matrix.values), cov_matrix.columns, cov_matrix.index)\n",
    "    cov_matrix_inv = np.linalg.pinv(cov_matrix)\n",
    "    #print(cov_matrix_inv)\n",
    "    \n",
    "    w = cov_matrix_inv@np.ones((N,1))/(np.ones((1,N))@cov_matrix_inv@np.ones((N,1)))\n",
    "    mu = tmp_df_stock[tmp_df_stock.columns[1:]].mean()\n",
    "    #print(mu)\n",
    "    \n",
    "    for j in range(12):\n",
    "        tmp_df_post = tmp_df_stock_all[120+j:121+j]\n",
    "        tmp_df_post = tmp_df_post[tmp_df_post.columns[1:]]\n",
    "        #print(tmp_df_post)\n",
    "        monthly_return = (tmp_df_post.astype(np.float64)+1).prod(axis=0)-1\n",
    "        monthly_returns.append(monthly_return@w)\n",
    "    "
   ]
  },
  {
   "cell_type": "code",
   "execution_count": 63,
   "metadata": {},
   "outputs": [
    {
     "data": {
      "text/plain": [
       "0.1432967768232372"
      ]
     },
     "execution_count": 63,
     "metadata": {},
     "output_type": "execute_result"
    }
   ],
   "source": [
    "monthly_returns = np.array(monthly_returns)\n",
    "monthly_returns.std()*np.sqrt(12)"
   ]
  },
  {
   "cell_type": "code",
   "execution_count": null,
   "metadata": {},
   "outputs": [],
   "source": [
    "a = s"
   ]
  },
  {
   "cell_type": "code",
   "execution_count": 27,
   "metadata": {},
   "outputs": [
    {
     "name": "stdout",
     "output_type": "stream",
     "text": [
      "(120, 811)\n",
      "(811, 811)\n"
     ]
    }
   ],
   "source": [
    "\n",
    "                \n",
    "        \n",
    "        \n"
   ]
  },
  {
   "cell_type": "code",
   "execution_count": 28,
   "metadata": {},
   "outputs": [
    {
     "data": {
      "text/plain": [
       "array([[0.01595323, 0.00163098],\n",
       "       [0.00163098, 0.00228553]])"
      ]
     },
     "execution_count": 28,
     "metadata": {},
     "output_type": "execute_result"
    }
   ],
   "source": []
  },
  {
   "cell_type": "code",
   "execution_count": null,
   "metadata": {},
   "outputs": [],
   "source": []
  }
 ],
 "metadata": {
  "kernelspec": {
   "display_name": "Python 3",
   "language": "python",
   "name": "python3"
  },
  "language_info": {
   "codemirror_mode": {
    "name": "ipython",
    "version": 3
   },
   "file_extension": ".py",
   "mimetype": "text/x-python",
   "name": "python",
   "nbconvert_exporter": "python",
   "pygments_lexer": "ipython3",
   "version": "3.7.6"
  }
 },
 "nbformat": 4,
 "nbformat_minor": 4
}
