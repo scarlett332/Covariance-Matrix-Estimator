{
 "cells": [
  {
   "cell_type": "code",
   "execution_count": 1,
   "metadata": {},
   "outputs": [],
   "source": [
    "import csv\n",
    "import copy\n",
    "from tqdm import tqdm\n",
    "import pandas as pd\n",
    "import numpy as np"
   ]
  },
  {
   "cell_type": "code",
   "execution_count": 2,
   "metadata": {},
   "outputs": [],
   "source": [
    "csv_file = \"data/stock_clean.csv\"\n",
    "df = pd.read_csv(csv_file)"
   ]
  },
  {
   "cell_type": "code",
   "execution_count": 3,
   "metadata": {},
   "outputs": [],
   "source": [
    "df = df.rename(columns = {df.columns[0]:\"date\"})"
   ]
  },
  {
   "cell_type": "code",
   "execution_count": 4,
   "metadata": {},
   "outputs": [
    {
     "data": {
      "text/plain": [
       "0      19620831\n",
       "1      19620928\n",
       "2      19621031\n",
       "3      19621130\n",
       "4      19621231\n",
       "         ...   \n",
       "391    19950331\n",
       "392    19950428\n",
       "393    19950531\n",
       "394    19950630\n",
       "395    19950731\n",
       "Name: date, Length: 396, dtype: int64"
      ]
     },
     "execution_count": 4,
     "metadata": {},
     "output_type": "execute_result"
    }
   ],
   "source": [
    "df[\"date\"]"
   ]
  },
  {
   "cell_type": "code",
   "execution_count": 5,
   "metadata": {},
   "outputs": [
    {
     "name": "stdout",
     "output_type": "stream",
     "text": [
      "120\n"
     ]
    }
   ],
   "source": [
    "result = df[\"date\"].isin([\"19720731\"])\n",
    "t = df[\"date\"][result].index.values[0]+1\n",
    "print(t)"
   ]
  },
  {
   "cell_type": "code",
   "execution_count": 6,
   "metadata": {
    "scrolled": true
   },
   "outputs": [
    {
     "name": "stdout",
     "output_type": "stream",
     "text": [
      "0.2\n",
      "973\n"
     ]
    }
   ],
   "source": [
    "#Drop columns that have less than pre 120 + post 12 = 132 valid return\n",
    "tmp_df_all = df[t-119:t+13].dropna(thresh=df[t-119:t+13].shape[0],how='all',axis=1)\n",
    "#print(tmp_df)\n",
    "#Get the prev\n",
    "tmp_df = tmp_df_all[0:120]\n",
    "N = len(tmp_df.columns[1:])\n",
    "q = 0.2\n",
    "print(q)\n",
    "print(N)"
   ]
  },
  {
   "cell_type": "code",
   "execution_count": null,
   "metadata": {},
   "outputs": [],
   "source": []
  },
  {
   "cell_type": "code",
   "execution_count": 7,
   "metadata": {},
   "outputs": [
    {
     "name": "stdout",
     "output_type": "stream",
     "text": [
      "          ACF        AJ       ADX        AB        AN       AYP       ACD  \\\n",
      "ACF  0.005819  0.002265  0.001461  0.003777  0.002224  0.001158  0.001840   \n",
      "AJ   0.002265  0.015953  0.001637  0.005977  0.002482  0.000411  0.002361   \n",
      "ADX  0.001461  0.001637  0.002294  0.002777  0.001567  0.000986  0.001416   \n",
      "AB   0.003777  0.005977  0.002777  0.012609  0.004451  0.001173  0.003906   \n",
      "AN   0.002224  0.002482  0.001567  0.004451  0.006156  0.001159  0.003402   \n",
      "..        ...       ...       ...       ...       ...       ...       ...   \n",
      "WPP  0.000995  0.003838  0.001107  0.004381  0.001637  0.000677  0.001749   \n",
      "WRO  0.001519  0.008800  0.001201  0.005405  0.002499  0.000720  0.001466   \n",
      "WMH  0.002298  0.005013  0.002061  0.006612  0.001899  0.000677  0.001195   \n",
      "WNW  0.001897  0.004548  0.000769  0.005400  0.002668  0.000137  0.003211   \n",
      "WRT  0.000354  0.007894  0.000725  0.001269  0.000341 -0.000259 -0.000515   \n",
      "\n",
      "           AH       AMX        AC  ...       UFD       UVC       VLX  \\\n",
      "ACF  0.002170  0.001997  0.001257  ...  0.001642  0.001569  0.004836   \n",
      "AJ   0.003542  0.001829  0.001129  ...  0.004622  0.003084  0.006829   \n",
      "ADX  0.001591  0.001316  0.001017  ...  0.001876  0.001284  0.002637   \n",
      "AB   0.004984  0.003379  0.001932  ...  0.002849  0.002370  0.008898   \n",
      "AN   0.003505  0.001957  0.001358  ...  0.001864  0.001875  0.003096   \n",
      "..        ...       ...       ...  ...       ...       ...       ...   \n",
      "WPP  0.004296  0.002021  0.000791  ...  0.001481  0.000584  0.005461   \n",
      "WRO  0.004744  0.001863  0.000136  ...  0.003729  0.000919  0.006800   \n",
      "WMH  0.002605  0.002297  0.000386  ...  0.002586  0.001928  0.006312   \n",
      "WNW  0.003906  0.001247  0.001181  ...  0.002896  0.002719  0.006022   \n",
      "WRT -0.000206  0.001415  0.000473  ...  0.004157  0.001057  0.001277   \n",
      "\n",
      "           WC       WBF       WPP       WRO       WMH       WNW       WRT  \n",
      "ACF  0.002956  0.002232  0.000995  0.001519  0.002298  0.001897  0.000354  \n",
      "AJ   0.006316  0.004816  0.003838  0.008800  0.005013  0.004548  0.007894  \n",
      "ADX  0.001722  0.000672  0.001107  0.001201  0.002061  0.000769  0.000725  \n",
      "AB   0.005580  0.004306  0.004381  0.005405  0.006612  0.005400  0.001269  \n",
      "AN   0.003106  0.003020  0.001637  0.002499  0.001899  0.002668  0.000341  \n",
      "..        ...       ...       ...       ...       ...       ...       ...  \n",
      "WPP  0.003785  0.002551  0.007785  0.004120  0.002851  0.005150  0.001932  \n",
      "WRO  0.005462  0.001688  0.004120  0.033009  0.004355  0.004151  0.007252  \n",
      "WMH  0.003742  0.003731  0.002851  0.004355  0.012768  0.002268  0.001257  \n",
      "WNW  0.005050  0.004921  0.005150  0.004151  0.002268  0.022625  0.004995  \n",
      "WRT  0.001719  0.004215  0.001932  0.007252  0.001257  0.004995  0.025003  \n",
      "\n",
      "[973 rows x 973 columns]\n"
     ]
    }
   ],
   "source": [
    "cov_matrix = tmp_df[tmp_df.columns[1:]].astype(np.float64).cov()\n",
    "print(cov_matrix)"
   ]
  },
  {
   "cell_type": "code",
   "execution_count": 8,
   "metadata": {},
   "outputs": [
    {
     "name": "stdout",
     "output_type": "stream",
     "text": [
      "          ACF        AJ       ADX        AB        AN       AYP       ACD  \\\n",
      "ACF  2.130508 -0.188419 -0.024210 -0.501656 -0.238469 -0.007295 -0.018286   \n",
      "AJ  -0.188419  3.652066  0.000188 -0.417014 -0.326211 -0.162612  0.134312   \n",
      "ADX -0.024210  0.000188  0.895820  0.177858  0.140921 -0.011471  0.032421   \n",
      "AB  -0.501656 -0.417014  0.177858  1.861858  0.148362 -0.023324 -0.016235   \n",
      "AN  -0.238469 -0.326211  0.140921  0.148362  1.888520 -0.170127  0.175599   \n",
      "..        ...       ...       ...       ...       ...       ...       ...   \n",
      "WPP -0.487066 -0.222572  0.057294  0.186328  0.344139  0.071300 -0.095498   \n",
      "WRO  0.184243 -0.564430  0.026852  0.372633  0.065775  0.151168 -0.070321   \n",
      "WMH  0.097443  0.223680 -0.000505  0.334013 -0.129424 -0.149213 -0.117622   \n",
      "WNW -0.209546  0.098365 -0.127383  0.019101  0.290019  0.016479  0.438158   \n",
      "WRT -0.271305  0.703274  0.083338  0.063249 -0.069688  0.015514 -0.422131   \n",
      "\n",
      "           AH       AMX        AC  ...       UFD       UVC       VLX  \\\n",
      "ACF -0.324046 -0.087952 -0.083452  ... -0.209278  0.177351  0.594821   \n",
      "AJ   0.752505  0.056272  0.318720  ...  0.685830  0.469851 -0.189403   \n",
      "ADX -0.084926  0.056208  0.077720  ... -0.243838  0.093967  0.001174   \n",
      "AB  -0.009757  0.045990  0.077210  ... -0.343235 -0.312575 -0.163965   \n",
      "AN   0.034595  0.028684 -0.054723  ... -0.160081  0.182118 -0.048276   \n",
      "..        ...       ...       ...  ...       ...       ...       ...   \n",
      "WPP  0.385830  0.229840  0.096819  ... -0.131414 -0.505490  0.116091   \n",
      "WRO -0.173566  0.585729 -0.102464  ... -0.028416 -0.800659  0.477809   \n",
      "WMH  0.476157 -0.041330 -0.287488  ... -0.140074 -0.527378  1.356217   \n",
      "WNW  0.361133  0.086338 -0.105194  ... -0.297476  0.315960 -0.263376   \n",
      "WRT  0.550465  0.368575 -0.069121  ...  0.057579 -0.385077  0.752636   \n",
      "\n",
      "           WC       WBF       WPP       WRO       WMH       WNW       WRT  \n",
      "ACF  0.127359  0.210546 -0.487066  0.184243  0.097443 -0.209546 -0.271305  \n",
      "AJ  -0.302666 -0.799539 -0.222572 -0.564430  0.223680  0.098365  0.703274  \n",
      "ADX -0.223590  0.200635  0.057294  0.026852 -0.000505 -0.127383  0.083338  \n",
      "AB   0.153585 -0.158966  0.186328  0.372633  0.334013  0.019101  0.063249  \n",
      "AN   0.131069  0.530350  0.344139  0.065775 -0.129424  0.290019 -0.069688  \n",
      "..        ...       ...       ...       ...       ...       ...       ...  \n",
      "WPP -0.135672 -0.767163  2.019295  0.181461 -0.065508  0.070741  0.288542  \n",
      "WRO -0.319556 -1.633444  0.181461  5.649318  0.297847 -0.338637  0.649909  \n",
      "WMH  0.211200 -0.070701 -0.065508  0.297847  3.926744  0.254141  0.531299  \n",
      "WNW -0.325732  0.147008  0.070741 -0.338637  0.254141  4.574042  0.558570  \n",
      "WRT -0.125721 -1.000615  0.288542  0.649909  0.531299  0.558570  5.671373  \n",
      "\n",
      "[973 rows x 973 columns]\n"
     ]
    }
   ],
   "source": [
    "cov_matrix_inv = pd.DataFrame(np.linalg.pinv(cov_matrix.values), cov_matrix.columns, cov_matrix.index)\n",
    "print(cov_matrix_inv)"
   ]
  },
  {
   "cell_type": "code",
   "execution_count": 9,
   "metadata": {},
   "outputs": [
    {
     "name": "stdout",
     "output_type": "stream",
     "text": [
      "ACF    0.015436\n",
      "AJ     0.007694\n",
      "ADX    0.008230\n",
      "AB     0.014622\n",
      "AN     0.004169\n",
      "         ...   \n",
      "WPP    0.007190\n",
      "WRO    0.016500\n",
      "WMH    0.022722\n",
      "WNW    0.014760\n",
      "WRT    0.013992\n",
      "Length: 973, dtype: float64\n"
     ]
    }
   ],
   "source": [
    "mu = tmp_df[tmp_df.columns[1:]].mean()\n",
    "print(mu)"
   ]
  },
  {
   "cell_type": "code",
   "execution_count": 10,
   "metadata": {},
   "outputs": [
    {
     "name": "stdout",
     "output_type": "stream",
     "text": [
      "[[1080.32758509]]\n"
     ]
    }
   ],
   "source": [
    "A = np.ones((1,N))@cov_matrix_inv.values@np.ones((N,1))\n",
    "print(A)"
   ]
  },
  {
   "cell_type": "code",
   "execution_count": 11,
   "metadata": {},
   "outputs": [
    {
     "name": "stdout",
     "output_type": "stream",
     "text": [
      "[9.06822128]\n"
     ]
    }
   ],
   "source": [
    "B = np.ones((1,N))@cov_matrix_inv.values@mu.values\n",
    "print(B)"
   ]
  },
  {
   "cell_type": "code",
   "execution_count": 12,
   "metadata": {},
   "outputs": [
    {
     "name": "stdout",
     "output_type": "stream",
     "text": [
      "0.5192947817780915\n"
     ]
    }
   ],
   "source": [
    "C = mu.values.T@cov_matrix_inv.values@mu.values\n",
    "print(C)"
   ]
  },
  {
   "cell_type": "code",
   "execution_count": 13,
   "metadata": {},
   "outputs": [
    {
     "name": "stdout",
     "output_type": "stream",
     "text": [
      "0.9999999999999998\n",
      "[0.2]\n"
     ]
    }
   ],
   "source": [
    "w = (C-q*B)/(A*C-B*B)*cov_matrix_inv.values@np.ones((N,1))+(q*A-B)/(A*C-B*B)*cov_matrix_inv.values@mu.values[:,np.newaxis]\n",
    "#w = cov_matrix_inv.values@np.ones((N,1))/(np.ones((1,N))@cov_matrix_inv.values@np.ones((N,1)))\n",
    "print(np.sum(w))\n",
    "print(mu@w)"
   ]
  },
  {
   "cell_type": "code",
   "execution_count": 14,
   "metadata": {},
   "outputs": [
    {
     "name": "stdout",
     "output_type": "stream",
     "text": [
      "[-0.39278722]\n"
     ]
    }
   ],
   "source": [
    "tmp_df_post = tmp_df_all[120:]\n",
    "tmp_df_post = tmp_df_post[tmp_df_post.columns[1:]]\n",
    "#print(tmp_df_post)\n",
    "annual_return = (tmp_df_post.astype(np.float64)+1).prod()-1\n",
    "#print(annual_return)\n",
    "#print(w)\n",
    "print(annual_return@w)"
   ]
  },
  {
   "cell_type": "code",
   "execution_count": 15,
   "metadata": {},
   "outputs": [
    {
     "name": "stderr",
     "output_type": "stream",
     "text": [
      "  5%|▍         | 1/22 [00:00<00:05,  3.72it/s]"
     ]
    },
    {
     "name": "stdout",
     "output_type": "stream",
     "text": [
      "1.0\n",
      "-0.01670403439180711\n",
      "[0.00839396]\n"
     ]
    },
    {
     "name": "stderr",
     "output_type": "stream",
     "text": [
      "\r",
      "  9%|▉         | 2/22 [00:00<00:05,  3.59it/s]"
     ]
    },
    {
     "name": "stdout",
     "output_type": "stream",
     "text": [
      "1.0000000000000002\n",
      "-0.01204275833353318\n",
      "[0.00870321]\n"
     ]
    },
    {
     "name": "stderr",
     "output_type": "stream",
     "text": [
      "\r",
      " 14%|█▎        | 3/22 [00:00<00:05,  3.41it/s]"
     ]
    },
    {
     "name": "stdout",
     "output_type": "stream",
     "text": [
      "1.0000000000000004\n",
      "-0.01110861265247732\n",
      "[0.00514758]\n"
     ]
    },
    {
     "name": "stderr",
     "output_type": "stream",
     "text": [
      "\r",
      " 18%|█▊        | 4/22 [00:01<00:05,  3.49it/s]"
     ]
    },
    {
     "name": "stdout",
     "output_type": "stream",
     "text": [
      "0.9999999999999998\n",
      "-0.012058750538513387\n",
      "[0.00479529]\n"
     ]
    },
    {
     "name": "stderr",
     "output_type": "stream",
     "text": [
      "\r",
      " 23%|██▎       | 5/22 [00:01<00:04,  3.42it/s]"
     ]
    },
    {
     "name": "stdout",
     "output_type": "stream",
     "text": [
      "0.9999999999999998\n",
      "-0.01710646681103379\n",
      "[0.009086]\n"
     ]
    },
    {
     "name": "stderr",
     "output_type": "stream",
     "text": [
      "\r",
      " 27%|██▋       | 6/22 [00:01<00:04,  3.45it/s]"
     ]
    },
    {
     "name": "stdout",
     "output_type": "stream",
     "text": [
      "1.0\n",
      "-0.01308507953234475\n",
      "[0.0075]\n"
     ]
    },
    {
     "name": "stderr",
     "output_type": "stream",
     "text": [
      "\r",
      " 32%|███▏      | 7/22 [00:02<00:04,  3.18it/s]"
     ]
    },
    {
     "name": "stdout",
     "output_type": "stream",
     "text": [
      "0.9999999999999998\n",
      "-0.014385006383925996\n",
      "[0.00715008]\n"
     ]
    },
    {
     "name": "stderr",
     "output_type": "stream",
     "text": [
      "\r",
      " 36%|███▋      | 8/22 [00:02<00:05,  2.54it/s]"
     ]
    },
    {
     "name": "stdout",
     "output_type": "stream",
     "text": [
      "1.0000000000000002\n",
      "-0.010699626410130688\n",
      "[0.00816669]\n"
     ]
    },
    {
     "name": "stderr",
     "output_type": "stream",
     "text": [
      "\r",
      " 41%|████      | 9/22 [00:03<00:05,  2.24it/s]"
     ]
    },
    {
     "name": "stdout",
     "output_type": "stream",
     "text": [
      "1.0\n",
      "-0.012557625885559712\n",
      "[0.00962903]\n"
     ]
    },
    {
     "name": "stderr",
     "output_type": "stream",
     "text": [
      "\r",
      " 45%|████▌     | 10/22 [00:04<00:07,  1.67it/s]"
     ]
    },
    {
     "name": "stdout",
     "output_type": "stream",
     "text": [
      "1.0000000000000002\n",
      "-0.011912480072054206\n",
      "[0.00722795]\n"
     ]
    },
    {
     "name": "stderr",
     "output_type": "stream",
     "text": [
      "\r",
      " 50%|█████     | 11/22 [00:04<00:06,  1.61it/s]"
     ]
    },
    {
     "name": "stdout",
     "output_type": "stream",
     "text": [
      "0.9999999999999997\n",
      "-0.013771675993706427\n",
      "[0.00623607]\n"
     ]
    },
    {
     "name": "stderr",
     "output_type": "stream",
     "text": [
      "\r",
      " 55%|█████▍    | 12/22 [00:05<00:05,  1.82it/s]"
     ]
    },
    {
     "name": "stdout",
     "output_type": "stream",
     "text": [
      "1.0000000000000004\n",
      "-0.01432034698257947\n",
      "[0.00864573]\n"
     ]
    },
    {
     "name": "stderr",
     "output_type": "stream",
     "text": [
      "\r",
      " 59%|█████▉    | 13/22 [00:05<00:04,  2.01it/s]"
     ]
    },
    {
     "name": "stdout",
     "output_type": "stream",
     "text": [
      "0.9999999999999999\n",
      "-0.01166578473506777\n",
      "[0.01261698]\n"
     ]
    },
    {
     "name": "stderr",
     "output_type": "stream",
     "text": [
      "\r",
      " 64%|██████▎   | 14/22 [00:05<00:03,  2.35it/s]"
     ]
    },
    {
     "name": "stdout",
     "output_type": "stream",
     "text": [
      "0.9999999999999998\n",
      "-0.009321498217809653\n",
      "[0.01312733]\n"
     ]
    },
    {
     "name": "stderr",
     "output_type": "stream",
     "text": [
      "\r",
      " 68%|██████▊   | 15/22 [00:06<00:02,  2.60it/s]"
     ]
    },
    {
     "name": "stdout",
     "output_type": "stream",
     "text": [
      "1.0\n",
      "-0.011526034617312258\n",
      "[0.01530773]\n"
     ]
    },
    {
     "name": "stderr",
     "output_type": "stream",
     "text": [
      "\r",
      " 73%|███████▎  | 16/22 [00:06<00:02,  2.45it/s]"
     ]
    },
    {
     "name": "stdout",
     "output_type": "stream",
     "text": [
      "1.0\n",
      "-0.011867108248338556\n",
      "[0.01468726]\n"
     ]
    },
    {
     "name": "stderr",
     "output_type": "stream",
     "text": [
      "\r",
      " 77%|███████▋  | 17/22 [00:06<00:01,  2.70it/s]"
     ]
    },
    {
     "name": "stdout",
     "output_type": "stream",
     "text": [
      "1.0000000000000002\n",
      "-0.01053805127133496\n",
      "[0.01319716]\n"
     ]
    },
    {
     "name": "stderr",
     "output_type": "stream",
     "text": [
      "\r",
      " 82%|████████▏ | 18/22 [00:07<00:01,  2.65it/s]"
     ]
    },
    {
     "name": "stdout",
     "output_type": "stream",
     "text": [
      "0.9999999999999999\n",
      "-0.011231295660794506\n",
      "[0.01514409]\n"
     ]
    },
    {
     "name": "stderr",
     "output_type": "stream",
     "text": [
      "\r",
      " 86%|████████▋ | 19/22 [00:07<00:01,  2.94it/s]"
     ]
    },
    {
     "name": "stdout",
     "output_type": "stream",
     "text": [
      "1.0\n",
      "-0.011584364149949327\n",
      "[0.01412594]\n"
     ]
    },
    {
     "name": "stderr",
     "output_type": "stream",
     "text": [
      "\r",
      " 91%|█████████ | 20/22 [00:07<00:00,  3.28it/s]"
     ]
    },
    {
     "name": "stdout",
     "output_type": "stream",
     "text": [
      "1.0\n",
      "-0.009382960686887187\n",
      "[0.01506685]\n"
     ]
    },
    {
     "name": "stderr",
     "output_type": "stream",
     "text": [
      "\r",
      " 95%|█████████▌| 21/22 [00:08<00:00,  3.33it/s]"
     ]
    },
    {
     "name": "stdout",
     "output_type": "stream",
     "text": [
      "1.0\n",
      "-0.00972217650460845\n",
      "[0.01587931]\n"
     ]
    },
    {
     "name": "stderr",
     "output_type": "stream",
     "text": [
      "100%|██████████| 22/22 [00:08<00:00,  2.50it/s]"
     ]
    },
    {
     "name": "stdout",
     "output_type": "stream",
     "text": [
      "0.9999999999999997\n",
      "-0.00868113845028335\n",
      "[0.0133736]\n"
     ]
    },
    {
     "name": "stderr",
     "output_type": "stream",
     "text": [
      "\n"
     ]
    }
   ],
   "source": [
    "annual_returns = []\n",
    "for i in tqdm(range(t,384,12)):\n",
    "    #tmp_df = df[i-119:i+1].dropna(thresh=df[i-119:i+1].shape[0],how='all',axis=1)\n",
    "    #Drop columns that have less than pre 120 + post 12 = 132 valid return\n",
    "    tmp_df_all = df[i-119:i+13].dropna(thresh=df[i-119:i+13].shape[0],how='all',axis=1)\n",
    "    #print(tmp_df)\n",
    "    #Get the prev\n",
    "    tmp_df = tmp_df_all[0:120]\n",
    "    N = len(tmp_df.columns[1:])\n",
    "    cov_matrix = tmp_df[tmp_df.columns[1:]].astype(np.float64).cov()\n",
    "    cov_matrix_inv = pd.DataFrame(np.linalg.pinv(cov_matrix.values), cov_matrix.columns, cov_matrix.index)\n",
    "    mu = tmp_df[tmp_df.columns[1:]].mean()\n",
    "    q = 0.2*tmp_df[tmp_df.columns[1:]].astype(np.float64).mean().mean()\n",
    "    #print(mu)\n",
    "    A = np.ones((1,N))@cov_matrix_inv.values@np.ones((N,1))\n",
    "    B = np.ones((1,N))@cov_matrix_inv.values@mu.values\n",
    "    C = mu.values.T@cov_matrix_inv.values@mu.values\n",
    "    #w = (C-q*B)/(A*C-B*B)*cov_matrix_inv.values@np.ones((N,1))+(q*A-B)/(A*C-B*B)*cov_matrix_inv.values@mu.values[:,np.newaxis]\n",
    "    w = cov_matrix_inv.values@np.ones((N,1))/(np.ones((1,N))@cov_matrix_inv.values@np.ones((N,1)))\n",
    "    for j in range(12):\n",
    "        tmp_df_post = tmp_df_all[120+j:121+j]\n",
    "        tmp_df_post = tmp_df_post[tmp_df_post.columns[1:]]\n",
    "        #print(tmp_df_post)\n",
    "        annual_return = (tmp_df_post.astype(np.float64)+1).prod(axis=0)-1\n",
    "        annual_returns.append(annual_return@w)\n",
    "    #print(annual_return[0:10])\n",
    "    print(np.sum(w))\n",
    "    print(np.min(w))\n",
    "    print(mu@w)\n",
    "#     tmp_df_post = tmp_df_all[120:132]\n",
    "#     tmp_df_post = tmp_df_post[tmp_df_post.columns[1:]]\n",
    "#     annual_return = (tmp_df_post.astype(np.float64)+1).prod(axis=0)-1\n",
    "#     annual_returns.append(annual_return@w)"
   ]
  },
  {
   "cell_type": "code",
   "execution_count": 16,
   "metadata": {},
   "outputs": [],
   "source": [
    "annual_returns = np.array(annual_returns)"
   ]
  },
  {
   "cell_type": "code",
   "execution_count": 17,
   "metadata": {},
   "outputs": [
    {
     "data": {
      "text/plain": [
       "0.12205701484968583"
      ]
     },
     "execution_count": 17,
     "metadata": {},
     "output_type": "execute_result"
    }
   ],
   "source": [
    "annual_returns.std()*np.sqrt(12)"
   ]
  },
  {
   "cell_type": "code",
   "execution_count": 18,
   "metadata": {},
   "outputs": [
    {
     "data": {
      "text/plain": [
       "0.011052453748610837"
      ]
     },
     "execution_count": 18,
     "metadata": {},
     "output_type": "execute_result"
    }
   ],
   "source": [
    "annual_returns.mean()"
   ]
  },
  {
   "cell_type": "code",
   "execution_count": null,
   "metadata": {},
   "outputs": [],
   "source": []
  }
 ],
 "metadata": {
  "kernelspec": {
   "display_name": "Python 3",
   "language": "python",
   "name": "python3"
  },
  "language_info": {
   "codemirror_mode": {
    "name": "ipython",
    "version": 3
   },
   "file_extension": ".py",
   "mimetype": "text/x-python",
   "name": "python",
   "nbconvert_exporter": "python",
   "pygments_lexer": "ipython3",
   "version": "3.7.6"
  }
 },
 "nbformat": 4,
 "nbformat_minor": 2
}
