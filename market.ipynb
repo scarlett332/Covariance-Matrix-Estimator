{
 "cells": [
  {
   "cell_type": "code",
   "execution_count": 17,
   "metadata": {},
   "outputs": [],
   "source": [
    "import csv\n",
    "import copy\n",
    "from tqdm import tqdm\n",
    "import pandas as pd\n",
    "import numpy as np\n",
    "from scipy import stats"
   ]
  },
  {
   "cell_type": "code",
   "execution_count": 3,
   "metadata": {},
   "outputs": [],
   "source": [
    "market_csv_file = \"data/S&P500.csv\"\n",
    "stock_csv_file = \"data/stock_clean.csv\"\n",
    "df_market = pd.read_csv(market_csv_file)\n",
    "df_stock = pd.read_csv(stock_csv_file)"
   ]
  },
  {
   "cell_type": "code",
   "execution_count": 19,
   "metadata": {},
   "outputs": [
    {
     "name": "stdout",
     "output_type": "stream",
     "text": [
      "119\n"
     ]
    }
   ],
   "source": [
    "df_stock = df_stock.rename(columns = {df_stock.columns[0]:\"date\"})\n",
    "result = df_stock[\"date\"].isin([\"19720731\"])\n",
    "t = df_stock[\"date\"][result].index.values[0]\n",
    "print(t)"
   ]
  },
  {
   "cell_type": "code",
   "execution_count": 20,
   "metadata": {},
   "outputs": [],
   "source": [
    "#Drop columns that have less than pre 120 + post 12 = 132 valid return\n",
    "tmp_df_stock_all = df_stock[t-119:t+13].dropna(thresh=df_stock[t-119:t+13].shape[0],how='all',axis=1)\n",
    "#print(tmp_df)\n",
    "#Get the prev\n",
    "tmp_df_stock = tmp_df_stock_all[0:120]\n",
    "tmp_df_market = df_market[t-119:t+1]\n",
    "N = len(tmp_df_stock.columns[1:])"
   ]
  },
  {
   "cell_type": "code",
   "execution_count": 35,
   "metadata": {},
   "outputs": [
    {
     "name": "stdout",
     "output_type": "stream",
     "text": [
      "[[ 0.003704]\n",
      " [-0.054004]\n",
      " [ 0.070866]\n",
      " [ 0.080882]\n",
      " [ 0.058319]\n",
      " [ 0.047002]\n",
      " [ 0.0387  ]\n",
      " [-0.009009]\n",
      " [ 0.084848]\n",
      " [ 0.09162 ]\n",
      " [-0.001289]\n",
      " [-0.045161]\n",
      " [ 0.121081]\n",
      " [-0.07767 ]\n",
      " [ 0.057895]\n",
      " [ 0.246766]\n",
      " [-0.004016]\n",
      " [ 0.068548]\n",
      " [ 0.043774]\n",
      " [ 0.      ]\n",
      " [ 0.003636]\n",
      " [-0.01087 ]\n",
      " [ 0.075646]\n",
      " [ 0.073756]\n",
      " [ 0.01278 ]\n",
      " [ 0.074722]\n",
      " [ 0.029586]\n",
      " [-0.023276]\n",
      " [-0.05638 ]\n",
      " [ 0.053459]\n",
      " [-0.02597 ]\n",
      " [ 0.040248]\n",
      " [ 0.084821]\n",
      " [-0.043621]\n",
      " [-0.104348]\n",
      " [ 0.009709]\n",
      " [ 0.059615]\n",
      " [-0.012232]\n",
      " [ 0.108359]\n",
      " [-0.009497]\n",
      " [ 0.076923]\n",
      " [ 0.089947]\n",
      " [-0.020388]\n",
      " [-0.0475  ]\n",
      " [ 0.002625]\n",
      " [ 0.006283]\n",
      " [ 0.057895]\n",
      " [-0.014925]\n",
      " [-0.135354]\n",
      " [-0.044379]\n",
      " [-0.024768]\n",
      " [ 0.013968]\n",
      " [-0.028571]\n",
      " [ 0.140523]\n",
      " [-0.036103]\n",
      " [ 0.156627]\n",
      " [ 0.052083]\n",
      " [-0.018812]\n",
      " [ 0.061224]\n",
      " [ 0.040865]\n",
      " [-0.066051]\n",
      " [-0.0125  ]\n",
      " [-0.040506]\n",
      " [-0.043799]\n",
      " [ 0.002793]\n",
      " [-0.041783]\n",
      " [-0.036628]\n",
      " [-0.024465]\n",
      " [ 0.203762]\n",
      " [-0.017188]\n",
      " [ 0.292225]\n",
      " [ 0.039419]\n",
      " [-0.100998]\n",
      " [-0.058296]\n",
      " [ 0.047619]\n",
      " [ 0.101818]\n",
      " [ 0.04375 ]\n",
      " [ 0.037924]\n",
      " [-0.119615]\n",
      " [ 0.019868]\n",
      " [-0.15368 ]\n",
      " [ 0.104348]\n",
      " [-0.133489]\n",
      " [-0.081081]\n",
      " [ 0.072941]\n",
      " [ 0.      ]\n",
      " [ 0.113889]\n",
      " [ 0.001995]\n",
      " [-0.012594]\n",
      " [-0.053571]\n",
      " [ 0.050674]\n",
      " [ 0.023377]\n",
      " [-0.076142]\n",
      " [-0.140659]\n",
      " [ 0.      ]\n",
      " [-0.012987]\n",
      " [ 0.055263]\n",
      " [ 0.094937]\n",
      " [-0.040462]\n",
      " [ 0.092771]\n",
      " [ 0.019553]\n",
      " [ 0.043836]\n",
      " [-0.005774]\n",
      " [ 0.090909]\n",
      " [ 0.161765]\n",
      " [-0.051055]\n",
      " [-0.006742]\n",
      " [-0.09276 ]\n",
      " [ 0.16409 ]\n",
      " [-0.006494]\n",
      " [-0.111111]\n",
      " [-0.029902]\n",
      " [ 0.053708]\n",
      " [ 0.004854]\n",
      " [-0.007729]\n",
      " [-0.068966]\n",
      " [-0.068783]\n",
      " [ 0.025   ]\n",
      " [-0.025281]\n",
      " [ 0.0317  ]]\n",
      "[[ 0.015284]\n",
      " [-0.048207]\n",
      " [ 0.004443]\n",
      " [ 0.101557]\n",
      " [ 0.013492]\n",
      " [ 0.049128]\n",
      " [-0.028852]\n",
      " [ 0.035464]\n",
      " [ 0.04852 ]\n",
      " [ 0.014327]\n",
      " [-0.020198]\n",
      " [-0.00346 ]\n",
      " [ 0.048749]\n",
      " [-0.011034]\n",
      " [ 0.032218]\n",
      " [-0.010539]\n",
      " [ 0.024444]\n",
      " [ 0.026926]\n",
      " [ 0.009865]\n",
      " [ 0.015167]\n",
      " [ 0.006077]\n",
      " [ 0.011452]\n",
      " [ 0.016424]\n",
      " [ 0.01824 ]\n",
      " [-0.01623 ]\n",
      " [ 0.028718]\n",
      " [ 0.008078]\n",
      " [-0.005185]\n",
      " [ 0.003909]\n",
      " [ 0.033156]\n",
      " [-0.001485]\n",
      " [-0.014526]\n",
      " [ 0.034239]\n",
      " [-0.007743]\n",
      " [-0.048632]\n",
      " [ 0.013433]\n",
      " [ 0.022522]\n",
      " [ 0.032006]\n",
      " [ 0.027345]\n",
      " [-0.008764]\n",
      " [ 0.008951]\n",
      " [ 0.004869]\n",
      " [-0.017873]\n",
      " [-0.021815]\n",
      " [ 0.020509]\n",
      " [-0.05414 ]\n",
      " [-0.016138]\n",
      " [-0.013453]\n",
      " [-0.077751]\n",
      " [-0.007004]\n",
      " [ 0.047544]\n",
      " [ 0.003117]\n",
      " [-0.001492]\n",
      " [ 0.078178]\n",
      " [ 0.001963]\n",
      " [ 0.03941 ]\n",
      " [ 0.042239]\n",
      " [-0.052441]\n",
      " [ 0.017512]\n",
      " [ 0.045344]\n",
      " [-0.011715]\n",
      " [ 0.032785]\n",
      " [-0.029056]\n",
      " [ 0.001065]\n",
      " [ 0.026277]\n",
      " [-0.043848]\n",
      " [-0.031223]\n",
      " [ 0.0094  ]\n",
      " [ 0.081929]\n",
      " [ 0.011169]\n",
      " [ 0.00912 ]\n",
      " [-0.018478]\n",
      " [ 0.011459]\n",
      " [ 0.038539]\n",
      " [ 0.007208]\n",
      " [ 0.047964]\n",
      " [-0.041617]\n",
      " [-0.008184]\n",
      " [-0.047374]\n",
      " [ 0.034444]\n",
      " [ 0.021476]\n",
      " [-0.002218]\n",
      " [-0.055577]\n",
      " [-0.060178]\n",
      " [ 0.040074]\n",
      " [-0.025024]\n",
      " [ 0.044244]\n",
      " [-0.035274]\n",
      " [-0.018655]\n",
      " [-0.076472]\n",
      " [ 0.052693]\n",
      " [ 0.001453]\n",
      " [-0.090483]\n",
      " [-0.060967]\n",
      " [-0.050033]\n",
      " [ 0.073295]\n",
      " [ 0.044459]\n",
      " [ 0.032998]\n",
      " [-0.0114  ]\n",
      " [ 0.047447]\n",
      " [ 0.056766]\n",
      " [ 0.040477]\n",
      " [ 0.009074]\n",
      " [ 0.036796]\n",
      " [ 0.036288]\n",
      " [-0.041558]\n",
      " [ 0.000703]\n",
      " [-0.041324]\n",
      " [ 0.036095]\n",
      " [-0.006968]\n",
      " [-0.041794]\n",
      " [-0.002547]\n",
      " [ 0.086179]\n",
      " [ 0.018121]\n",
      " [ 0.025303]\n",
      " [ 0.005912]\n",
      " [ 0.004384]\n",
      " [ 0.017275]\n",
      " [-0.021821]\n",
      " [ 0.002333]]\n"
     ]
    }
   ],
   "source": [
    "print(tmp_df_stock[tmp_df_stock.columns[1:2]].values)\n",
    "print(tmp_df_market[tmp_df_market.columns[1:]].values)"
   ]
  },
  {
   "cell_type": "code",
   "execution_count": 64,
   "metadata": {},
   "outputs": [],
   "source": [
    "y = tmp_df_stock[tmp_df_stock.columns[1:]].values\n",
    "y_bar = y.mean()\n",
    "x = tmp_df_market[tmp_df_market.columns[1:]].values\n",
    "x_bar = x.mean()\n",
    "beta_1 = np.sum((y-y_bar)*(x),axis=0)/np.sum((x-x_bar)*x,axis=0)\n",
    "beta_0 = y_bar - beta_1*x_bar\n",
    "residual = y - (beta_1*x+beta_0)\n",
    "delta = np.sum(residual**2,axis=0)/(N-2)\n",
    "D = np.diag(delta)\n",
    "s_2 = x.var()\n",
    "F = s_2*beta_1@beta_1.T + D\n",
    "#print(F)\n",
    "#stats.linregress(np.tile(tmp_df_market[tmp_df_market.columns[1]].values,N).reshape(120,N),tmp_df_stock[tmp_df_stock.columns[1:]].values)"
   ]
  },
  {
   "cell_type": "code",
   "execution_count": 68,
   "metadata": {},
   "outputs": [
    {
     "name": "stdout",
     "output_type": "stream",
     "text": [
      "1.0000000000101852\n",
      "6.15674633638902e-05\n",
      "[0.00946186]\n"
     ]
    }
   ],
   "source": [
    "cov_matrix = F\n",
    "cov_matrix_inv = np.linalg.pinv(cov_matrix)#pd.DataFrame(np.linalg.pinv(cov_matrix.values), cov_matrix.columns, cov_matrix.index)\n",
    "w = cov_matrix_inv@np.ones((N,1))/(np.ones((1,N))@cov_matrix_inv@np.ones((N,1)))\n",
    "mu = tmp_df_stock[tmp_df_stock.columns[1:]].mean()\n",
    "#annual_return = (tmp_df_.astype(np.float64)+1).prod(axis=0)-1\n",
    "#annual_returns.append(annual_return@w)\n",
    "#print(annual_return[0:10])\n",
    "print(np.sum(w))\n",
    "print(np.min(w))\n",
    "print(mu@w)"
   ]
  },
  {
   "cell_type": "code",
   "execution_count": 105,
   "metadata": {},
   "outputs": [
    {
     "name": "stderr",
     "output_type": "stream",
     "text": [
      "  4%|▍         | 1/23 [00:00<00:04,  4.82it/s]"
     ]
    },
    {
     "name": "stdout",
     "output_type": "stream",
     "text": [
      "(810, 810)\n",
      "(996, 996)\n"
     ]
    },
    {
     "name": "stderr",
     "output_type": "stream",
     "text": [
      "\r",
      "  9%|▊         | 2/23 [00:00<00:04,  4.34it/s]"
     ]
    },
    {
     "name": "stdout",
     "output_type": "stream",
     "text": [
      "(1049, 1049)\n"
     ]
    },
    {
     "name": "stderr",
     "output_type": "stream",
     "text": [
      "\r",
      " 13%|█▎        | 3/23 [00:00<00:05,  3.69it/s]"
     ]
    },
    {
     "name": "stdout",
     "output_type": "stream",
     "text": [
      "(1049, 1049)\n"
     ]
    },
    {
     "name": "stderr",
     "output_type": "stream",
     "text": [
      "\r",
      " 17%|█▋        | 4/23 [00:01<00:05,  3.54it/s]"
     ]
    },
    {
     "name": "stdout",
     "output_type": "stream",
     "text": [
      "(1021, 1021)\n"
     ]
    },
    {
     "name": "stderr",
     "output_type": "stream",
     "text": [
      "\r",
      " 22%|██▏       | 5/23 [00:01<00:05,  3.59it/s]"
     ]
    },
    {
     "name": "stdout",
     "output_type": "stream",
     "text": [
      "(1030, 1030)\n"
     ]
    },
    {
     "name": "stderr",
     "output_type": "stream",
     "text": [
      "\r",
      " 26%|██▌       | 6/23 [00:01<00:04,  3.57it/s]"
     ]
    },
    {
     "name": "stdout",
     "output_type": "stream",
     "text": [
      "(1082, 1082)\n"
     ]
    },
    {
     "name": "stderr",
     "output_type": "stream",
     "text": [
      "\r",
      " 30%|███       | 7/23 [00:02<00:04,  3.35it/s]"
     ]
    },
    {
     "name": "stdout",
     "output_type": "stream",
     "text": [
      "(1149, 1149)\n"
     ]
    },
    {
     "name": "stderr",
     "output_type": "stream",
     "text": [
      "\r",
      " 35%|███▍      | 8/23 [00:02<00:05,  2.95it/s]"
     ]
    },
    {
     "name": "stdout",
     "output_type": "stream",
     "text": [
      "(1171, 1171)\n"
     ]
    },
    {
     "name": "stderr",
     "output_type": "stream",
     "text": [
      "\r",
      " 39%|███▉      | 9/23 [00:02<00:05,  2.58it/s]"
     ]
    },
    {
     "name": "stdout",
     "output_type": "stream",
     "text": [
      "(1180, 1180)\n"
     ]
    },
    {
     "name": "stderr",
     "output_type": "stream",
     "text": [
      "\r",
      " 43%|████▎     | 10/23 [00:03<00:05,  2.40it/s]"
     ]
    },
    {
     "name": "stdout",
     "output_type": "stream",
     "text": [
      "(1197, 1197)\n"
     ]
    },
    {
     "name": "stderr",
     "output_type": "stream",
     "text": [
      "\r",
      " 48%|████▊     | 11/23 [00:04<00:05,  2.12it/s]"
     ]
    },
    {
     "name": "stdout",
     "output_type": "stream",
     "text": [
      "(1193, 1193)\n"
     ]
    },
    {
     "name": "stderr",
     "output_type": "stream",
     "text": [
      "\r",
      " 52%|█████▏    | 12/23 [00:04<00:05,  1.93it/s]"
     ]
    },
    {
     "name": "stdout",
     "output_type": "stream",
     "text": [
      "(1151, 1151)\n"
     ]
    },
    {
     "name": "stderr",
     "output_type": "stream",
     "text": [
      "\r",
      " 57%|█████▋    | 13/23 [00:05<00:05,  2.00it/s]"
     ]
    },
    {
     "name": "stdout",
     "output_type": "stream",
     "text": [
      "(1090, 1090)\n"
     ]
    },
    {
     "name": "stderr",
     "output_type": "stream",
     "text": [
      "\r",
      " 61%|██████    | 14/23 [00:05<00:04,  2.11it/s]"
     ]
    },
    {
     "name": "stdout",
     "output_type": "stream",
     "text": [
      "(1043, 1043)\n"
     ]
    },
    {
     "name": "stderr",
     "output_type": "stream",
     "text": [
      "\r",
      " 65%|██████▌   | 15/23 [00:06<00:03,  2.15it/s]"
     ]
    },
    {
     "name": "stdout",
     "output_type": "stream",
     "text": [
      "(1085, 1085)\n"
     ]
    },
    {
     "name": "stderr",
     "output_type": "stream",
     "text": [
      "\r",
      " 70%|██████▉   | 16/23 [00:06<00:03,  2.30it/s]"
     ]
    },
    {
     "name": "stdout",
     "output_type": "stream",
     "text": [
      "(1044, 1044)\n"
     ]
    },
    {
     "name": "stderr",
     "output_type": "stream",
     "text": [
      "\r",
      " 74%|███████▍  | 17/23 [00:06<00:02,  2.48it/s]"
     ]
    },
    {
     "name": "stdout",
     "output_type": "stream",
     "text": [
      "(999, 999)\n"
     ]
    },
    {
     "name": "stderr",
     "output_type": "stream",
     "text": [
      "\r",
      " 78%|███████▊  | 18/23 [00:07<00:01,  2.62it/s]"
     ]
    },
    {
     "name": "stdout",
     "output_type": "stream",
     "text": [
      "(1001, 1001)\n"
     ]
    },
    {
     "name": "stderr",
     "output_type": "stream",
     "text": [
      "\r",
      " 83%|████████▎ | 19/23 [00:07<00:01,  2.96it/s]"
     ]
    },
    {
     "name": "stdout",
     "output_type": "stream",
     "text": [
      "(1027, 1027)\n"
     ]
    },
    {
     "name": "stderr",
     "output_type": "stream",
     "text": [
      "\r",
      " 87%|████████▋ | 20/23 [00:07<00:00,  3.17it/s]"
     ]
    },
    {
     "name": "stdout",
     "output_type": "stream",
     "text": [
      "(1040, 1040)\n"
     ]
    },
    {
     "name": "stderr",
     "output_type": "stream",
     "text": [
      "\r",
      " 91%|█████████▏| 21/23 [00:07<00:00,  3.28it/s]"
     ]
    },
    {
     "name": "stdout",
     "output_type": "stream",
     "text": [
      "(1040, 1040)\n"
     ]
    },
    {
     "name": "stderr",
     "output_type": "stream",
     "text": [
      "\r",
      " 96%|█████████▌| 22/23 [00:08<00:00,  3.32it/s]"
     ]
    },
    {
     "name": "stdout",
     "output_type": "stream",
     "text": [
      "(1040, 1040)\n"
     ]
    },
    {
     "name": "stderr",
     "output_type": "stream",
     "text": [
      "100%|██████████| 23/23 [00:08<00:00,  2.73it/s]\n"
     ]
    }
   ],
   "source": [
    "annual_returns = []\n",
    "for i in tqdm(range(t,384,12)):\n",
    "    #tmp_df = df[i-119:i+1].dropna(thresh=df[i-119:i+1].shape[0],how='all',axis=1)\n",
    "    #Drop columns that have less than pre 120 + post 12 = 132 valid return\n",
    "    tmp_df_stock_all = df_stock[i-119:i+13].dropna(thresh=df_stock[i-119:i+13].shape[0],how='all',axis=1)\n",
    "    #print(tmp_df)\n",
    "    #Get the prev\n",
    "    tmp_df_stock = tmp_df_stock_all[0:120]\n",
    "    N = len(tmp_df_stock.columns[1:])\n",
    "    tmp_df_market = df_market[t-119:t+1]\n",
    "    \n",
    "    y = tmp_df_stock[tmp_df_stock.columns[1:]].astype(np.float64).values\n",
    "    y_bar = y.mean()\n",
    "    x = tmp_df_market[tmp_df_market.columns[1:]].astype(np.float64).values\n",
    "    x_bar = x.mean()\n",
    "    beta_1 = np.sum((y-y_bar)*(x),axis=0)/np.sum((x-x_bar)*x,axis=0)\n",
    "    beta_0 = y_bar - beta_1*x_bar\n",
    "    residual = y - (beta_1*x+beta_0)\n",
    "    delta = np.sum(residual**2,axis=0)/(N-2)\n",
    "    D = np.diag(delta)\n",
    "    s_2 = x.var()\n",
    "    cov_matrix = s_2*beta_1[:,np.newaxis]@beta_1[:,np.newaxis].T + D\n",
    "    print((beta_1[:,np.newaxis]@beta_1[:,np.newaxis].T).shape)\n",
    "    #print(D)\n",
    "    cov_matrix_inv = np.linalg.pinv(cov_matrix)#pd.DataFrame(np.linalg.pinv(cov_matrix.values), cov_matrix.columns, cov_matrix.index)\n",
    "    w = cov_matrix_inv@np.ones((N,1))/(np.ones((1,N))@cov_matrix_inv@np.ones((N,1)))\n",
    "    mu = tmp_df_stock[tmp_df_stock.columns[1:]].mean()\n",
    "    for j in range(12):\n",
    "        tmp_df_post = tmp_df_stock_all[120+j:121+j]\n",
    "        tmp_df_post = tmp_df_post[tmp_df_post.columns[1:]]\n",
    "        #print(tmp_df_post)\n",
    "        annual_return = (tmp_df_post.astype(np.float64)+1).prod(axis=0)-1\n",
    "        annual_returns.append(annual_return@w)\n",
    "    #print(annual_return[0:10])\n",
    "#     print(np.sum(w))\n",
    "#     print(np.min(w))\n",
    "#     print(mu@w)"
   ]
  },
  {
   "cell_type": "code",
   "execution_count": 100,
   "metadata": {},
   "outputs": [
    {
     "data": {
      "text/plain": [
       "0.143150006052536"
      ]
     },
     "execution_count": 100,
     "metadata": {},
     "output_type": "execute_result"
    }
   ],
   "source": [
    "annual_returns = np.array(annual_returns)\n",
    "annual_returns.std()*np.sqrt(12)"
   ]
  },
  {
   "cell_type": "code",
   "execution_count": 101,
   "metadata": {},
   "outputs": [
    {
     "data": {
      "text/plain": [
       "0.013253112485461677"
      ]
     },
     "execution_count": 101,
     "metadata": {},
     "output_type": "execute_result"
    }
   ],
   "source": [
    "annual_returns.mean()"
   ]
  },
  {
   "cell_type": "code",
   "execution_count": null,
   "metadata": {},
   "outputs": [],
   "source": []
  }
 ],
 "metadata": {
  "kernelspec": {
   "display_name": "Python 3",
   "language": "python",
   "name": "python3"
  },
  "language_info": {
   "codemirror_mode": {
    "name": "ipython",
    "version": 3
   },
   "file_extension": ".py",
   "mimetype": "text/x-python",
   "name": "python",
   "nbconvert_exporter": "python",
   "pygments_lexer": "ipython3",
   "version": "3.7.4"
  }
 },
 "nbformat": 4,
 "nbformat_minor": 2
}
